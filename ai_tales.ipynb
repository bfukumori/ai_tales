{
  "nbformat": 4,
  "nbformat_minor": 0,
  "metadata": {
    "colab": {
      "provenance": [],
      "authorship_tag": "ABX9TyOqlfH9p9Eaj49JBo/L+p6S",
      "include_colab_link": true
    },
    "kernelspec": {
      "name": "python3",
      "display_name": "Python 3"
    },
    "language_info": {
      "name": "python"
    }
  },
  "cells": [
    {
      "cell_type": "markdown",
      "metadata": {
        "id": "view-in-github",
        "colab_type": "text"
      },
      "source": [
        "<a href=\"https://colab.research.google.com/github/bfukumori/ai_tales/blob/main/ai_tales.ipynb\" target=\"_parent\"><img src=\"https://colab.research.google.com/assets/colab-badge.svg\" alt=\"Open In Colab\"/></a>"
      ]
    },
    {
      "cell_type": "markdown",
      "source": [
        "# RPG de Turnos com Escolhas: Uma Aventura Interativa\n",
        "\n",
        "## Descrição\n",
        "\n",
        "Essa aplicação oferece uma experiência única de RPG de turnos, onde suas escolhas moldam a história e o destino do seu personagem. Com um sistema simples de turnos e opções de escolha, você embarcará em uma aventura cativante que pode se desenrolar de diversas maneiras.\n",
        "\n",
        "## Instruções\n",
        "\n",
        "1. **Defina a duração da sua jornada:** Escolha entre uma jornada curta (5 turnos), padrão (10 turnos) ou longa (20 turnos).\n",
        "2. **Selecione o tema da sua aventura:** Opte por ficção científica, mistério ou aventura medieval como pano de fundo para sua história.\n",
        "3. **Faça suas escolhas:** A cada turno, você será apresentado a três opções que afetarão o rumo da narrativa. Escolha com sabedoria, pois cada decisão tem consequências.\n",
        "4. **Descubra seu destino:** No turno final, uma escolha crucial determinará o desfecho da sua história, com finais bons, ruins ou neutros dependendo das suas ações anteriores.\n",
        "5. **Aprenda com a jornada:** Cada final traz consigo uma lição de vida valiosa, refletindo as escolhas que você fez ao longo do caminho.\n",
        "\n",
        "## Como Jogar\n",
        "\n",
        "1. Execute cada célula do notebook em sequência.\n",
        "2. Responda às perguntas selecionando a opção desejada (1, 2 ou 3) e pressione Enter. Caso deseje sair, digite 0.\n",
        "3. Siga as instruções e mergulhe na história!\n",
        "\n",
        "## Observações\n",
        "\n",
        "* Você pode jogar quantas vezes quiser, explorando diferentes caminhos e descobrindo novos finais.\n",
        "* Lembre-se, não existem escolhas certas ou erradas, apenas consequências.\n",
        "* Divirta-se e aproveite a aventura!"
      ],
      "metadata": {
        "id": "I5dxLAZwh3TK"
      }
    },
    {
      "cell_type": "code",
      "source": [
        "# Instalação das bibliotecas\n",
        "!pip install -q -U google-generativeai"
      ],
      "metadata": {
        "id": "nR-kOjjWjKFk"
      },
      "execution_count": 5,
      "outputs": []
    },
    {
      "cell_type": "code",
      "source": [
        "# Configuração do modelo\n",
        "import google.generativeai as genai\n",
        "from google.colab import userdata\n",
        "\n",
        "GOOGLE_API_KEY=userdata.get('GOOGLE_API_KEY')\n",
        "genai.configure(api_key=GOOGLE_API_KEY)\n",
        "\n",
        "generation_config = {\n",
        "  \"temperature\": 1,\n",
        "  \"top_p\": 0.95,\n",
        "  \"top_k\": 0,\n",
        "  \"max_output_tokens\": 8192,\n",
        "}\n",
        "\n",
        "safety_settings = [\n",
        "  {\n",
        "    \"category\": \"HARM_CATEGORY_HARASSMENT\",\n",
        "    \"threshold\": \"BLOCK_MEDIUM_AND_ABOVE\"\n",
        "  },\n",
        "  {\n",
        "    \"category\": \"HARM_CATEGORY_HATE_SPEECH\",\n",
        "    \"threshold\": \"BLOCK_MEDIUM_AND_ABOVE\"\n",
        "  },\n",
        "  {\n",
        "    \"category\": \"HARM_CATEGORY_SEXUALLY_EXPLICIT\",\n",
        "    \"threshold\": \"BLOCK_MEDIUM_AND_ABOVE\"\n",
        "  },\n",
        "  {\n",
        "    \"category\": \"HARM_CATEGORY_DANGEROUS_CONTENT\",\n",
        "    \"threshold\": \"BLOCK_MEDIUM_AND_ABOVE\"\n",
        "  },\n",
        "]"
      ],
      "metadata": {
        "id": "BHVKmOpJjz_b"
      },
      "execution_count": 6,
      "outputs": []
    },
    {
      "cell_type": "code",
      "source": [
        "# Inicialização do modelo\n",
        "system_instruction = \"Você é um mestre de RPG que irá direcionar os jogadores durante a história. Deve falar de forma sábia e às vezes instigar os jogadores\"\n",
        "\n",
        "model = genai.GenerativeModel(model_name=\"gemini-1.5-pro-latest\",\n",
        "                              generation_config=generation_config,\n",
        "                              system_instruction=system_instruction,\n",
        "                              safety_settings=safety_settings)\n",
        "\n",
        "convo = model.start_chat(history=[{\n",
        "    \"role\": \"user\",\n",
        "    \"parts\": [\"Construa um jogo de rpg baseado em turnos e escolhas do jogador. Dependendo da escolha, a história deve seguir um rumo. Sempre haverão 3 opções de escolhas para o jogador, uma boa, uma neutra e uma ruim, mas que não sejam fáceis de saber qual é qual. Logo no início, o jogador deve escolher a quantidade de turnos, mínimo de 5 e máximo de 20 turnos e o tema da história, que poderão ser ficção científica, mistério ou aventura medieval. No turno final, a escolha do jogador deve ser difícil de se tomar e dependendo da escolha, haverá um final bom, ruim ou neutro. Deve finalizar com o desfecho da história de acordo com as escolhas prévias e todo desfecho deve trazer uma lição importante de vida.\"]\n",
        "  },{\n",
        "    \"role\": \"user\",\n",
        "    \"parts\": [\"Deve separar as perguntas para que o jogador digite um número da escolha\"]\n",
        "  },{\n",
        "    \"role\": \"user\",\n",
        "    \"parts\": [\"O jogador deve responder uma pergunta por vez\"]\n",
        "  }])"
      ],
      "metadata": {
        "id": "dc3havq-kTap"
      },
      "execution_count": 18,
      "outputs": []
    },
    {
      "cell_type": "code",
      "source": [
        "# Execução do programa\n",
        "convo.send_message(\"Inicie o jogo\")\n",
        "\n",
        "while True:  # Loop infinito para o jogo\n",
        "    print(convo.last.text)  # Exibe a mensagem do narrador\n",
        "\n",
        "    choice = input(\"Digite sua escolha ou 0 para sair: \")  # Obtém a escolha do jogador\n",
        "\n",
        "    # Envia a escolha do jogador para o modelo\n",
        "    convo.send_message(choice)\n",
        "\n",
        "    # Verifique se o jogo terminou\n",
        "    if choice == 0:\n",
        "        break\n",
        "\n",
        "print(\"Fim do jogo! Obrigado por jogar conosco! Até a próxima!\")"
      ],
      "metadata": {
        "colab": {
          "base_uri": "https://localhost:8080/"
        },
        "id": "BeJgjWKxiYgX",
        "outputId": "8d020217-a9b5-4d48-807e-1ea3f801cda4"
      },
      "execution_count": null,
      "outputs": [
        {
          "metadata": {
            "tags": null
          },
          "name": "stdout",
          "output_type": "stream",
          "text": [
            "Olá, aventureiro! Sou Gemini, o mestre que irá guiá-lo nesta jornada de escolhas e consequências. Primeiramente, diga-me, quantos turnos deseja que tenha esta aventura? (Mínimo de 5, máximo de 20) \n",
            "\n",
            "\n",
            "\n"
          ]
        }
      ]
    }
  ]
}